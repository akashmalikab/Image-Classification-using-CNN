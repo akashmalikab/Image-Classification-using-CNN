{
 "cells": [
  {
   "cell_type": "code",
   "execution_count": 1,
   "metadata": {},
   "outputs": [
    {
     "name": "stderr",
     "output_type": "stream",
     "text": [
      "Using TensorFlow backend.\n"
     ]
    }
   ],
   "source": [
    "import tensorflow as tf\n",
    "from keras.preprocessing.image import ImageDataGenerator"
   ]
  },
  {
   "cell_type": "code",
   "execution_count": 2,
   "metadata": {},
   "outputs": [
    {
     "data": {
      "text/plain": [
       "'2.1.0'"
      ]
     },
     "execution_count": 2,
     "metadata": {},
     "output_type": "execute_result"
    }
   ],
   "source": [
    "tf.__version__\n",
    "\n",
    "\n"
   ]
  },
  {
   "cell_type": "markdown",
   "metadata": {},
   "source": [
    "Data PreProcessing\n"
   ]
  },
  {
   "cell_type": "code",
   "execution_count": 3,
   "metadata": {},
   "outputs": [
    {
     "name": "stdout",
     "output_type": "stream",
     "text": [
      "Found 8000 images belonging to 2 classes.\n"
     ]
    }
   ],
   "source": [
    "train_datagen = ImageDataGenerator(\n",
    "        rescale=1./255,\n",
    "        shear_range=0.2,\n",
    "        zoom_range=0.2,\n",
    "        horizontal_flip=True)\n",
    "training_set = train_datagen.flow_from_directory(\n",
    "        'training_set',\n",
    "        target_size=(64, 64),\n",
    "        batch_size=32,\n",
    "        class_mode='binary')\n"
   ]
  },
  {
   "cell_type": "code",
   "execution_count": 4,
   "metadata": {},
   "outputs": [
    {
     "name": "stdout",
     "output_type": "stream",
     "text": [
      "Found 2000 images belonging to 2 classes.\n"
     ]
    }
   ],
   "source": [
    "test_datagen = ImageDataGenerator(rescale=1./255)\n",
    "test_set = test_datagen.flow_from_directory(\n",
    "        'test_set',\n",
    "        target_size=(64, 64),\n",
    "        batch_size=32,\n",
    "        class_mode='binary')"
   ]
  },
  {
   "cell_type": "markdown",
   "metadata": {},
   "source": [
    "# Building CNN"
   ]
  },
  {
   "cell_type": "code",
   "execution_count": 5,
   "metadata": {},
   "outputs": [],
   "source": [
    "cnn = tf.keras.models.Sequential()"
   ]
  },
  {
   "cell_type": "markdown",
   "metadata": {},
   "source": [
    "Step-1 Adding Convolutional Layer"
   ]
  },
  {
   "cell_type": "code",
   "execution_count": 6,
   "metadata": {},
   "outputs": [],
   "source": [
    "cnn.add(tf.keras.layers.Convolution2D(filters=32,kernel_size=3,activation='relu',input_shape=(64,64,3)))"
   ]
  },
  {
   "cell_type": "markdown",
   "metadata": {},
   "source": [
    "Step-2 Applying Pooling(Max_Pooling)"
   ]
  },
  {
   "cell_type": "code",
   "execution_count": 7,
   "metadata": {},
   "outputs": [],
   "source": [
    "cnn.add(tf.keras.layers.MaxPooling2D(pool_size=2,strides=2))"
   ]
  },
  {
   "cell_type": "markdown",
   "metadata": {},
   "source": [
    "Step-3 Adding a Second Convolutional Layer"
   ]
  },
  {
   "cell_type": "code",
   "execution_count": 9,
   "metadata": {},
   "outputs": [],
   "source": [
    "cnn.add(tf.keras.layers.Convolution2D(filters=32,kernel_size=3,activation='relu'))\n",
    "cnn.add(tf.keras.layers.MaxPooling2D(pool_size=2,strides=2))"
   ]
  },
  {
   "cell_type": "markdown",
   "metadata": {},
   "source": [
    "Step-3 Flattening(Converting into 1 dimensional Vector)"
   ]
  },
  {
   "cell_type": "code",
   "execution_count": 10,
   "metadata": {},
   "outputs": [],
   "source": [
    "cnn.add(tf.keras.layers.Flatten())"
   ]
  },
  {
   "cell_type": "markdown",
   "metadata": {},
   "source": [
    "Step-4 Full Connection"
   ]
  },
  {
   "cell_type": "code",
   "execution_count": 11,
   "metadata": {},
   "outputs": [],
   "source": [
    "cnn.add(tf.keras.layers.Dense(units=130,activation='relu'))"
   ]
  },
  {
   "cell_type": "markdown",
   "metadata": {},
   "source": [
    "Step-5 Output Layer"
   ]
  },
  {
   "cell_type": "code",
   "execution_count": 12,
   "metadata": {},
   "outputs": [],
   "source": [
    "cnn.add(tf.keras.layers.Dense(units=1,activation='sigmoid'))"
   ]
  },
  {
   "cell_type": "markdown",
   "metadata": {},
   "source": [
    "# Training the CNN "
   ]
  },
  {
   "cell_type": "code",
   "execution_count": 13,
   "metadata": {},
   "outputs": [],
   "source": [
    "cnn.compile(optimizer='adam',loss='binary_crossentropy',metrics=['accuracy'])"
   ]
  },
  {
   "cell_type": "markdown",
   "metadata": {},
   "source": [
    "Training the CNN on training set and evaluating on the test set"
   ]
  },
  {
   "cell_type": "code",
   "execution_count": 14,
   "metadata": {},
   "outputs": [
    {
     "name": "stdout",
     "output_type": "stream",
     "text": [
      "WARNING:tensorflow:sample_weight modes were coerced from\n",
      "  ...\n",
      "    to  \n",
      "  ['...']\n",
      "WARNING:tensorflow:sample_weight modes were coerced from\n",
      "  ...\n",
      "    to  \n",
      "  ['...']\n",
      "Train for 250 steps, validate for 63 steps\n",
      "Epoch 1/25\n",
      "250/250 [==============================] - 59s 235ms/step - loss: 0.6769 - accuracy: 0.5670 - val_loss: 0.6637 - val_accuracy: 0.6035\n",
      "Epoch 2/25\n",
      "250/250 [==============================] - 53s 214ms/step - loss: 0.6044 - accuracy: 0.6719 - val_loss: 0.5617 - val_accuracy: 0.7160\n",
      "Epoch 3/25\n",
      "250/250 [==============================] - 50s 201ms/step - loss: 0.5700 - accuracy: 0.7011 - val_loss: 0.5395 - val_accuracy: 0.7405\n",
      "Epoch 4/25\n",
      "250/250 [==============================] - 50s 201ms/step - loss: 0.5269 - accuracy: 0.7370 - val_loss: 0.5135 - val_accuracy: 0.7385\n",
      "Epoch 5/25\n",
      "250/250 [==============================] - 53s 212ms/step - loss: 0.5035 - accuracy: 0.7487 - val_loss: 0.4779 - val_accuracy: 0.7725\n",
      "Epoch 6/25\n",
      "250/250 [==============================] - 50s 201ms/step - loss: 0.4775 - accuracy: 0.7709 - val_loss: 0.5453 - val_accuracy: 0.7430\n",
      "Epoch 7/25\n",
      "250/250 [==============================] - 51s 204ms/step - loss: 0.4654 - accuracy: 0.7761 - val_loss: 0.4717 - val_accuracy: 0.7720\n",
      "Epoch 8/25\n",
      "250/250 [==============================] - 50s 200ms/step - loss: 0.4441 - accuracy: 0.7905 - val_loss: 0.4532 - val_accuracy: 0.7950\n",
      "Epoch 9/25\n",
      "250/250 [==============================] - 52s 207ms/step - loss: 0.4191 - accuracy: 0.8024 - val_loss: 0.4558 - val_accuracy: 0.8025\n",
      "Epoch 10/25\n",
      "250/250 [==============================] - 51s 204ms/step - loss: 0.4084 - accuracy: 0.8160 - val_loss: 0.4616 - val_accuracy: 0.7915\n",
      "Epoch 11/25\n",
      "250/250 [==============================] - 51s 204ms/step - loss: 0.4000 - accuracy: 0.8144 - val_loss: 0.4741 - val_accuracy: 0.7925\n",
      "Epoch 12/25\n",
      "250/250 [==============================] - 50s 201ms/step - loss: 0.3895 - accuracy: 0.8234 - val_loss: 0.4859 - val_accuracy: 0.7805\n",
      "Epoch 13/25\n",
      "250/250 [==============================] - 52s 210ms/step - loss: 0.3631 - accuracy: 0.8374 - val_loss: 0.4689 - val_accuracy: 0.7990\n",
      "Epoch 14/25\n",
      "250/250 [==============================] - 50s 199ms/step - loss: 0.3465 - accuracy: 0.8455 - val_loss: 0.4890 - val_accuracy: 0.7885\n",
      "Epoch 15/25\n",
      "250/250 [==============================] - 51s 202ms/step - loss: 0.3459 - accuracy: 0.8457 - val_loss: 0.4489 - val_accuracy: 0.8000\n",
      "Epoch 16/25\n",
      "250/250 [==============================] - 51s 203ms/step - loss: 0.3207 - accuracy: 0.8575 - val_loss: 0.4925 - val_accuracy: 0.7820\n",
      "Epoch 17/25\n",
      "250/250 [==============================] - 52s 209ms/step - loss: 0.3078 - accuracy: 0.8633 - val_loss: 0.4586 - val_accuracy: 0.8045\n",
      "Epoch 18/25\n",
      "250/250 [==============================] - 51s 203ms/step - loss: 0.2902 - accuracy: 0.8764 - val_loss: 0.5554 - val_accuracy: 0.7780\n",
      "Epoch 19/25\n",
      "250/250 [==============================] - 53s 213ms/step - loss: 0.2771 - accuracy: 0.8811 - val_loss: 0.5031 - val_accuracy: 0.8060\n",
      "Epoch 20/25\n",
      "250/250 [==============================] - 55s 219ms/step - loss: 0.2652 - accuracy: 0.8886 - val_loss: 0.5037 - val_accuracy: 0.8070\n",
      "Epoch 21/25\n",
      "250/250 [==============================] - 58s 231ms/step - loss: 0.2481 - accuracy: 0.8967 - val_loss: 0.5286 - val_accuracy: 0.8005\n",
      "Epoch 22/25\n",
      "250/250 [==============================] - 54s 217ms/step - loss: 0.2412 - accuracy: 0.8969 - val_loss: 0.5066 - val_accuracy: 0.8125\n",
      "Epoch 23/25\n",
      "250/250 [==============================] - 52s 209ms/step - loss: 0.2244 - accuracy: 0.9072 - val_loss: 0.5545 - val_accuracy: 0.8050\n",
      "Epoch 24/25\n",
      "250/250 [==============================] - 52s 206ms/step - loss: 0.2118 - accuracy: 0.9154 - val_loss: 0.5229 - val_accuracy: 0.8105\n",
      "Epoch 25/25\n",
      "250/250 [==============================] - 52s 209ms/step - loss: 0.2007 - accuracy: 0.9204 - val_loss: 0.5558 - val_accuracy: 0.8050\n"
     ]
    },
    {
     "data": {
      "text/plain": [
       "<tensorflow.python.keras.callbacks.History at 0x263a96ec088>"
      ]
     },
     "execution_count": 14,
     "metadata": {},
     "output_type": "execute_result"
    }
   ],
   "source": [
    "cnn.fit(x=training_set,validation_data=test_set,epochs=25)"
   ]
  },
  {
   "cell_type": "markdown",
   "metadata": {},
   "source": [
    "# Making Prediction"
   ]
  },
  {
   "cell_type": "code",
   "execution_count": 15,
   "metadata": {},
   "outputs": [],
   "source": [
    "import numpy as np\n",
    "from keras.preprocessing import image"
   ]
  },
  {
   "cell_type": "code",
   "execution_count": 30,
   "metadata": {},
   "outputs": [],
   "source": [
    "test_image = image.load_img('PredictionFolder/dog.4097.jpg',target_size=(64,64))\n",
    "test_image = image.img_to_array(test_image)\n",
    "test_image = np.expand_dims(test_image,axis=0)\n",
    "result = cnn.predict(test_image)\n",
    "training_set.class_indices\n",
    "if result[0][0] == 1:\n",
    "    prediction = 'dog'\n",
    "else:\n",
    "    prediction = 'cat'"
   ]
  },
  {
   "cell_type": "code",
   "execution_count": 31,
   "metadata": {},
   "outputs": [
    {
     "name": "stdout",
     "output_type": "stream",
     "text": [
      "cat\n"
     ]
    }
   ],
   "source": [
    "print(prediction)"
   ]
  },
  {
   "cell_type": "code",
   "execution_count": null,
   "metadata": {},
   "outputs": [],
   "source": []
  },
  {
   "cell_type": "code",
   "execution_count": null,
   "metadata": {},
   "outputs": [],
   "source": []
  }
 ],
 "metadata": {
  "kernelspec": {
   "display_name": "Python 3",
   "language": "python",
   "name": "python3"
  },
  "language_info": {
   "codemirror_mode": {
    "name": "ipython",
    "version": 3
   },
   "file_extension": ".py",
   "mimetype": "text/x-python",
   "name": "python",
   "nbconvert_exporter": "python",
   "pygments_lexer": "ipython3",
   "version": "3.7.4"
  }
 },
 "nbformat": 4,
 "nbformat_minor": 2
}
